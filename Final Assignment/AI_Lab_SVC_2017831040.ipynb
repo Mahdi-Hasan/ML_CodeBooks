{
  "cells": [
    {
      "cell_type": "code",
      "execution_count": 1,
      "metadata": {
        "id": "hK0q_-sPcTvT"
      },
      "outputs": [],
      "source": [
        "import pandas as pd\n",
        "import numpy as np\n",
        "import seaborn as sns\n",
        "import matplotlib.pyplot as plt\n",
        "from sklearn.model_selection import train_test_split\n",
        "from sklearn.svm import LinearSVC\n",
        "from sklearn.metrics import confusion_matrix,classification_report,accuracy_score"
      ]
    },
    {
      "cell_type": "markdown",
      "metadata": {
        "id": "SA0OY9fIdVSt"
      },
      "source": [
        "### Download from Gdirve Then Unzip"
      ]
    },
    {
      "cell_type": "code",
      "execution_count": 2,
      "metadata": {
        "id": "Ksu0Wq_KcKup",
        "colab": {
          "base_uri": "https://localhost:8080/"
        },
        "outputId": "b8f78d2e-d7eb-4965-dca7-65a60c3dfa2e"
      },
      "outputs": [
        {
          "output_type": "stream",
          "name": "stdout",
          "text": [
            "Downloading...\n",
            "From: https://drive.google.com/uc?id=18KwSR9aVTZRNaOVF76VE9USSEkqnYzzQ\n",
            "To: /content/bank-data.zip\n",
            "\r  0% 0.00/516k [00:00<?, ?B/s]\r100% 516k/516k [00:00<00:00, 128MB/s]\n"
          ]
        }
      ],
      "source": [
        "!gdown 18KwSR9aVTZRNaOVF76VE9USSEkqnYzzQ"
      ]
    },
    {
      "cell_type": "code",
      "source": [
        "!unzip bank-data.zip"
      ],
      "metadata": {
        "colab": {
          "base_uri": "https://localhost:8080/"
        },
        "id": "BsNRu07yi2k5",
        "outputId": "f1c7b15e-e879-4b32-d5af-1481deb95066"
      },
      "execution_count": 3,
      "outputs": [
        {
          "output_type": "stream",
          "name": "stdout",
          "text": [
            "Archive:  bank-data.zip\n",
            "   creating: bank-data/\n",
            "  inflating: __MACOSX/._bank-data    \n",
            "  inflating: bank-data/.DS_Store     \n",
            "  inflating: __MACOSX/bank-data/._.DS_Store  \n",
            "  inflating: bank-data/bank-full.csv  \n",
            "  inflating: __MACOSX/bank-data/._bank-full.csv  \n"
          ]
        }
      ]
    },
    {
      "cell_type": "code",
      "execution_count": 4,
      "metadata": {
        "id": "nB-4Ze9YcTiv",
        "colab": {
          "base_uri": "https://localhost:8080/",
          "height": 206
        },
        "outputId": "d4b7474b-4ec7-4a62-8e93-42f4953dea38"
      },
      "outputs": [
        {
          "output_type": "execute_result",
          "data": {
            "text/plain": [
              "   age           job  marital  education default  balance housing loan  \\\n",
              "0   58    management  married   tertiary      no     2143     yes   no   \n",
              "1   44    technician   single  secondary      no       29     yes   no   \n",
              "2   33  entrepreneur  married  secondary      no        2     yes  yes   \n",
              "3   47   blue-collar  married    unknown      no     1506     yes   no   \n",
              "4   33       unknown   single    unknown      no        1      no   no   \n",
              "\n",
              "   contact  day month  duration  campaign  pdays  previous poutcome   y  \n",
              "0  unknown    5   may       261         1     -1         0  unknown  no  \n",
              "1  unknown    5   may       151         1     -1         0  unknown  no  \n",
              "2  unknown    5   may        76         1     -1         0  unknown  no  \n",
              "3  unknown    5   may        92         1     -1         0  unknown  no  \n",
              "4  unknown    5   may       198         1     -1         0  unknown  no  "
            ],
            "text/html": [
              "\n",
              "  <div id=\"df-cf021285-3b3f-410d-af50-5f17ebcd2170\">\n",
              "    <div class=\"colab-df-container\">\n",
              "      <div>\n",
              "<style scoped>\n",
              "    .dataframe tbody tr th:only-of-type {\n",
              "        vertical-align: middle;\n",
              "    }\n",
              "\n",
              "    .dataframe tbody tr th {\n",
              "        vertical-align: top;\n",
              "    }\n",
              "\n",
              "    .dataframe thead th {\n",
              "        text-align: right;\n",
              "    }\n",
              "</style>\n",
              "<table border=\"1\" class=\"dataframe\">\n",
              "  <thead>\n",
              "    <tr style=\"text-align: right;\">\n",
              "      <th></th>\n",
              "      <th>age</th>\n",
              "      <th>job</th>\n",
              "      <th>marital</th>\n",
              "      <th>education</th>\n",
              "      <th>default</th>\n",
              "      <th>balance</th>\n",
              "      <th>housing</th>\n",
              "      <th>loan</th>\n",
              "      <th>contact</th>\n",
              "      <th>day</th>\n",
              "      <th>month</th>\n",
              "      <th>duration</th>\n",
              "      <th>campaign</th>\n",
              "      <th>pdays</th>\n",
              "      <th>previous</th>\n",
              "      <th>poutcome</th>\n",
              "      <th>y</th>\n",
              "    </tr>\n",
              "  </thead>\n",
              "  <tbody>\n",
              "    <tr>\n",
              "      <th>0</th>\n",
              "      <td>58</td>\n",
              "      <td>management</td>\n",
              "      <td>married</td>\n",
              "      <td>tertiary</td>\n",
              "      <td>no</td>\n",
              "      <td>2143</td>\n",
              "      <td>yes</td>\n",
              "      <td>no</td>\n",
              "      <td>unknown</td>\n",
              "      <td>5</td>\n",
              "      <td>may</td>\n",
              "      <td>261</td>\n",
              "      <td>1</td>\n",
              "      <td>-1</td>\n",
              "      <td>0</td>\n",
              "      <td>unknown</td>\n",
              "      <td>no</td>\n",
              "    </tr>\n",
              "    <tr>\n",
              "      <th>1</th>\n",
              "      <td>44</td>\n",
              "      <td>technician</td>\n",
              "      <td>single</td>\n",
              "      <td>secondary</td>\n",
              "      <td>no</td>\n",
              "      <td>29</td>\n",
              "      <td>yes</td>\n",
              "      <td>no</td>\n",
              "      <td>unknown</td>\n",
              "      <td>5</td>\n",
              "      <td>may</td>\n",
              "      <td>151</td>\n",
              "      <td>1</td>\n",
              "      <td>-1</td>\n",
              "      <td>0</td>\n",
              "      <td>unknown</td>\n",
              "      <td>no</td>\n",
              "    </tr>\n",
              "    <tr>\n",
              "      <th>2</th>\n",
              "      <td>33</td>\n",
              "      <td>entrepreneur</td>\n",
              "      <td>married</td>\n",
              "      <td>secondary</td>\n",
              "      <td>no</td>\n",
              "      <td>2</td>\n",
              "      <td>yes</td>\n",
              "      <td>yes</td>\n",
              "      <td>unknown</td>\n",
              "      <td>5</td>\n",
              "      <td>may</td>\n",
              "      <td>76</td>\n",
              "      <td>1</td>\n",
              "      <td>-1</td>\n",
              "      <td>0</td>\n",
              "      <td>unknown</td>\n",
              "      <td>no</td>\n",
              "    </tr>\n",
              "    <tr>\n",
              "      <th>3</th>\n",
              "      <td>47</td>\n",
              "      <td>blue-collar</td>\n",
              "      <td>married</td>\n",
              "      <td>unknown</td>\n",
              "      <td>no</td>\n",
              "      <td>1506</td>\n",
              "      <td>yes</td>\n",
              "      <td>no</td>\n",
              "      <td>unknown</td>\n",
              "      <td>5</td>\n",
              "      <td>may</td>\n",
              "      <td>92</td>\n",
              "      <td>1</td>\n",
              "      <td>-1</td>\n",
              "      <td>0</td>\n",
              "      <td>unknown</td>\n",
              "      <td>no</td>\n",
              "    </tr>\n",
              "    <tr>\n",
              "      <th>4</th>\n",
              "      <td>33</td>\n",
              "      <td>unknown</td>\n",
              "      <td>single</td>\n",
              "      <td>unknown</td>\n",
              "      <td>no</td>\n",
              "      <td>1</td>\n",
              "      <td>no</td>\n",
              "      <td>no</td>\n",
              "      <td>unknown</td>\n",
              "      <td>5</td>\n",
              "      <td>may</td>\n",
              "      <td>198</td>\n",
              "      <td>1</td>\n",
              "      <td>-1</td>\n",
              "      <td>0</td>\n",
              "      <td>unknown</td>\n",
              "      <td>no</td>\n",
              "    </tr>\n",
              "  </tbody>\n",
              "</table>\n",
              "</div>\n",
              "      <button class=\"colab-df-convert\" onclick=\"convertToInteractive('df-cf021285-3b3f-410d-af50-5f17ebcd2170')\"\n",
              "              title=\"Convert this dataframe to an interactive table.\"\n",
              "              style=\"display:none;\">\n",
              "        \n",
              "  <svg xmlns=\"http://www.w3.org/2000/svg\" height=\"24px\"viewBox=\"0 0 24 24\"\n",
              "       width=\"24px\">\n",
              "    <path d=\"M0 0h24v24H0V0z\" fill=\"none\"/>\n",
              "    <path d=\"M18.56 5.44l.94 2.06.94-2.06 2.06-.94-2.06-.94-.94-2.06-.94 2.06-2.06.94zm-11 1L8.5 8.5l.94-2.06 2.06-.94-2.06-.94L8.5 2.5l-.94 2.06-2.06.94zm10 10l.94 2.06.94-2.06 2.06-.94-2.06-.94-.94-2.06-.94 2.06-2.06.94z\"/><path d=\"M17.41 7.96l-1.37-1.37c-.4-.4-.92-.59-1.43-.59-.52 0-1.04.2-1.43.59L10.3 9.45l-7.72 7.72c-.78.78-.78 2.05 0 2.83L4 21.41c.39.39.9.59 1.41.59.51 0 1.02-.2 1.41-.59l7.78-7.78 2.81-2.81c.8-.78.8-2.07 0-2.86zM5.41 20L4 18.59l7.72-7.72 1.47 1.35L5.41 20z\"/>\n",
              "  </svg>\n",
              "      </button>\n",
              "      \n",
              "  <style>\n",
              "    .colab-df-container {\n",
              "      display:flex;\n",
              "      flex-wrap:wrap;\n",
              "      gap: 12px;\n",
              "    }\n",
              "\n",
              "    .colab-df-convert {\n",
              "      background-color: #E8F0FE;\n",
              "      border: none;\n",
              "      border-radius: 50%;\n",
              "      cursor: pointer;\n",
              "      display: none;\n",
              "      fill: #1967D2;\n",
              "      height: 32px;\n",
              "      padding: 0 0 0 0;\n",
              "      width: 32px;\n",
              "    }\n",
              "\n",
              "    .colab-df-convert:hover {\n",
              "      background-color: #E2EBFA;\n",
              "      box-shadow: 0px 1px 2px rgba(60, 64, 67, 0.3), 0px 1px 3px 1px rgba(60, 64, 67, 0.15);\n",
              "      fill: #174EA6;\n",
              "    }\n",
              "\n",
              "    [theme=dark] .colab-df-convert {\n",
              "      background-color: #3B4455;\n",
              "      fill: #D2E3FC;\n",
              "    }\n",
              "\n",
              "    [theme=dark] .colab-df-convert:hover {\n",
              "      background-color: #434B5C;\n",
              "      box-shadow: 0px 1px 3px 1px rgba(0, 0, 0, 0.15);\n",
              "      filter: drop-shadow(0px 1px 2px rgba(0, 0, 0, 0.3));\n",
              "      fill: #FFFFFF;\n",
              "    }\n",
              "  </style>\n",
              "\n",
              "      <script>\n",
              "        const buttonEl =\n",
              "          document.querySelector('#df-cf021285-3b3f-410d-af50-5f17ebcd2170 button.colab-df-convert');\n",
              "        buttonEl.style.display =\n",
              "          google.colab.kernel.accessAllowed ? 'block' : 'none';\n",
              "\n",
              "        async function convertToInteractive(key) {\n",
              "          const element = document.querySelector('#df-cf021285-3b3f-410d-af50-5f17ebcd2170');\n",
              "          const dataTable =\n",
              "            await google.colab.kernel.invokeFunction('convertToInteractive',\n",
              "                                                     [key], {});\n",
              "          if (!dataTable) return;\n",
              "\n",
              "          const docLinkHtml = 'Like what you see? Visit the ' +\n",
              "            '<a target=\"_blank\" href=https://colab.research.google.com/notebooks/data_table.ipynb>data table notebook</a>'\n",
              "            + ' to learn more about interactive tables.';\n",
              "          element.innerHTML = '';\n",
              "          dataTable['output_type'] = 'display_data';\n",
              "          await google.colab.output.renderOutput(dataTable, element);\n",
              "          const docLink = document.createElement('div');\n",
              "          docLink.innerHTML = docLinkHtml;\n",
              "          element.appendChild(docLink);\n",
              "        }\n",
              "      </script>\n",
              "    </div>\n",
              "  </div>\n",
              "  "
            ]
          },
          "metadata": {},
          "execution_count": 4
        }
      ],
      "source": [
        "data = pd.read_csv(\"bank-data/bank-full.csv\", delimiter=';')\n",
        "data.head()"
      ]
    },
    {
      "cell_type": "markdown",
      "metadata": {
        "id": "SO4XvIQuoSmY"
      },
      "source": [
        "## Lets Explore the dataset"
      ]
    },
    {
      "cell_type": "code",
      "execution_count": 5,
      "metadata": {
        "id": "d4kc9YKWjcH5",
        "colab": {
          "base_uri": "https://localhost:8080/"
        },
        "outputId": "fdc47b64-393a-45e8-ce1d-bfb69ddaaa23"
      },
      "outputs": [
        {
          "output_type": "execute_result",
          "data": {
            "text/plain": [
              "(45211, 17)"
            ]
          },
          "metadata": {},
          "execution_count": 5
        }
      ],
      "source": [
        "data.shape"
      ]
    },
    {
      "cell_type": "markdown",
      "metadata": {
        "id": "JR9HL1xiOm58"
      },
      "source": [
        "Categorical Features"
      ]
    },
    {
      "cell_type": "code",
      "execution_count": 6,
      "metadata": {
        "id": "zWk4oUrBFPKx",
        "colab": {
          "base_uri": "https://localhost:8080/"
        },
        "outputId": "2d05ce33-321a-414f-a955-6c5dcff58b30"
      },
      "outputs": [
        {
          "output_type": "stream",
          "name": "stdout",
          "text": [
            "Total Categorical Features are : 9\n"
          ]
        },
        {
          "output_type": "execute_result",
          "data": {
            "text/plain": [
              "['job',\n",
              " 'marital',\n",
              " 'education',\n",
              " 'default',\n",
              " 'housing',\n",
              " 'loan',\n",
              " 'contact',\n",
              " 'month',\n",
              " 'poutcome']"
            ]
          },
          "metadata": {},
          "execution_count": 6
        }
      ],
      "source": [
        "categoricalFeatures = [feature for feature in data.columns if ((data[feature].dtypes=='O')&(feature not in ['y']))]\n",
        "print('Total Categorical Features are : {}'.format(len(categoricalFeatures)))\n",
        "categoricalFeatures"
      ]
    },
    {
      "cell_type": "code",
      "execution_count": 7,
      "metadata": {
        "id": "xJLqeuYEHhuo",
        "colab": {
          "base_uri": "https://localhost:8080/",
          "height": 1000
        },
        "outputId": "6ed083d0-1539-427f-ac18-6d5a5bfc1768"
      },
      "outputs": [
        {
          "output_type": "display_data",
          "data": {
            "text/plain": [
              "<Figure size 1440x4320 with 9 Axes>"
            ],
            "image/png": "[encoded data removed]"
          },
          "metadata": {
            "needs_background": "light"
          }
        }
      ],
      "source": [
        "# Categorical Features Distribution\n",
        "plt.figure(figsize=(20,60))\n",
        "plotnumber =1\n",
        "for categoricalFeature in categoricalFeatures:\n",
        "    ax = plt.subplot(10,3,plotnumber)\n",
        "    sns.countplot(y=categoricalFeature,data=data)\n",
        "    plt.xlabel(categoricalFeature)\n",
        "    plt.title(categoricalFeature)\n",
        "    plotnumber+=1\n",
        "plt.show()"
      ]
    },
    {
      "cell_type": "markdown",
      "metadata": {
        "id": "dlVL6lZEO0UW"
      },
      "source": [
        "## Exploring the Numerical Features"
      ]
    },
    {
      "cell_type": "code",
      "execution_count": 9,
      "metadata": {
        "id": "_ZLnAFjeKyaA",
        "colab": {
          "base_uri": "https://localhost:8080/"
        },
        "outputId": "aa4864c2-a4dd-4b39-884f-f5292899147f"
      },
      "outputs": [
        {
          "output_type": "stream",
          "name": "stdout",
          "text": [
            "Total Numerical Features are : 7\n"
          ]
        },
        {
          "output_type": "execute_result",
          "data": {
            "text/plain": [
              "['age', 'balance', 'day', 'duration', 'campaign', 'pdays', 'previous']"
            ]
          },
          "metadata": {},
          "execution_count": 9
        }
      ],
      "source": [
        "numericalFeatures = [feature for feature in data.columns if ((data[feature].dtypes!='O')&(feature not in ['y']))]\n",
        "print('Total Numerical Features are : {}'.format(len(numericalFeatures)))\n",
        "numericalFeatures"
      ]
    },
    {
      "cell_type": "code",
      "execution_count": null,
      "metadata": {
        "id": "OmAqOtkGPfo-"
      },
      "outputs": [],
      "source": [
        "plt.figure(figsize=(20,60))\n",
        "plotnumber =1\n",
        "for numericalFeature in numericalFeatures:\n",
        "    ax = plt.subplot(10,4,plotnumber)\n",
        "    # sns.countplot(y=numericalFeature,data=data)\n",
        "    sns.distplot(data[numericalFeature])\n",
        "    plt.xlabel(numericalFeature)\n",
        "    plt.title(numericalFeature)\n",
        "    plotnumber+=1\n",
        "plt.show()"
      ]
    },
    {
      "cell_type": "code",
      "source": [
        "#Relationship between Numerical Features and Label Y\n",
        "plt.figure(figsize=(20,60))\n",
        "plotnumber =1\n",
        "for numericalFeature in numericalFeatures:\n",
        "    ax = plt.subplot(10,4,plotnumber)\n",
        "    sns.boxplot(x='y', y=data[numericalFeature], data = data)\n",
        "    plt.xlabel(numericalFeature)\n",
        "    plt.title(numericalFeature)\n",
        "    plotnumber+=1\n",
        "plt.show()"
      ],
      "metadata": {
        "colab": {
          "base_uri": "https://localhost:8080/",
          "height": 686
        },
        "id": "v2RLZ8IOSbbw",
        "outputId": "dfadcc30-aa0d-43e8-ef0f-e2a68445ff5b"
      },
      "execution_count": 11,
      "outputs": [
        {
          "output_type": "display_data",
          "data": {
            "text/plain": [
              "<Figure size 1440x4320 with 7 Axes>"
            ],
            "image/png": "[encoded data removed]"
          },
          "metadata": {
            "needs_background": "light"
          }
        }
      ]
    },
    {
      "cell_type": "code",
      "source": [
        "data['y'].groupby(data['y']).count()"
      ],
      "metadata": {
        "colab": {
          "base_uri": "https://localhost:8080/"
        },
        "id": "U1dMuOV4V3Zj",
        "outputId": "4b50fb64-ea78-4ba7-eb2f-573cbae940b3"
      },
      "execution_count": 13,
      "outputs": [
        {
          "output_type": "execute_result",
          "data": {
            "text/plain": [
              "y\n",
              "no     39922\n",
              "yes     5289\n",
              "Name: y, dtype: int64"
            ]
          },
          "metadata": {},
          "execution_count": 13
        }
      ]
    },
    {
      "cell_type": "markdown",
      "source": [
        "# Feature Engineering"
      ],
      "metadata": {
        "id": "06pm9Tx2Wa-j"
      }
    },
    {
      "cell_type": "markdown",
      "source": [
        "## Delete Some features which are not important"
      ],
      "metadata": {
        "id": "qdZ6Ro4l4jXg"
      }
    },
    {
      "cell_type": "code",
      "source": [
        "data2 =data.copy()\n",
        "data2.shape"
      ],
      "metadata": {
        "colab": {
          "base_uri": "https://localhost:8080/"
        },
        "id": "J3tQBfEGWYuE",
        "outputId": "b746c196-0755-404c-8520-3bc67c719b9c"
      },
      "execution_count": 14,
      "outputs": [
        {
          "output_type": "execute_result",
          "data": {
            "text/plain": [
              "(45211, 17)"
            ]
          },
          "metadata": {},
          "execution_count": 14
        }
      ]
    },
    {
      "cell_type": "markdown",
      "source": [
        "## Delete \"**default**\" and  \"**pdays**\""
      ],
      "metadata": {
        "id": "G5_8rN6S4zt1"
      }
    },
    {
      "cell_type": "code",
      "source": [
        "data2.groupby(['y','default']).size()\n",
        "data2.drop(['default'],axis=1, inplace=True)\n",
        "data2.groupby(['y','pdays']).size()\n",
        "data2.drop(['pdays'],axis=1, inplace=True)"
      ],
      "metadata": {
        "id": "a5UdsIchWrh7"
      },
      "execution_count": null,
      "outputs": []
    },
    {
      "cell_type": "markdown",
      "source": [
        "## Converting categorical into numerical Features\n",
        "\n"
      ],
      "metadata": {
        "id": "LUYfIhTB5YkY"
      }
    },
    {
      "cell_type": "code",
      "source": [
        "catagoricalColumns = ['job', 'marital', 'education', 'contact', 'month', 'poutcome']\n",
        "for col in  catagoricalColumns:\n",
        "    data2 = pd.concat([data2.drop(col, axis=1),pd.get_dummies(data2[col], prefix=col, prefix_sep='_',drop_first=True, dummy_na=False)], axis=1)"
      ],
      "metadata": {
        "id": "4uSErFKPZSqA"
      },
      "execution_count": 19,
      "outputs": []
    },
    {
      "cell_type": "markdown",
      "source": [
        "##Converting binary calategorical Features into numerical Features"
      ],
      "metadata": {
        "id": "5dCuXDdq5vi8"
      }
    },
    {
      "cell_type": "code",
      "source": [
        "\n",
        "boolColumns = ['housing', 'loan', 'y']\n",
        "for col in  boolColumns:\n",
        "    data2[col+'New']=data2[col].apply(lambda x : 1 if x == 'yes' else 0)\n",
        "    data2.drop(col, axis=1, inplace=True)"
      ],
      "metadata": {
        "id": "2DrFO0VwZqjr"
      },
      "execution_count": 20,
      "outputs": []
    },
    {
      "cell_type": "code",
      "source": [
        "data2.head()"
      ],
      "metadata": {
        "colab": {
          "base_uri": "https://localhost:8080/",
          "height": 317
        },
        "id": "2Iek4FD4Z1yr",
        "outputId": "51037a8b-7fed-4e2c-b8e4-cc5c1287d0b9"
      },
      "execution_count": 21,
      "outputs": [
        {
          "output_type": "execute_result",
          "data": {
            "text/plain": [
              "   age  balance  day  duration  campaign  previous  job_blue-collar  \\\n",
              "0   58     2143    5       261         1         0                0   \n",
              "1   44       29    5       151         1         0                0   \n",
              "2   33        2    5        76         1         0                0   \n",
              "3   47     1506    5        92         1         0                1   \n",
              "4   33        1    5       198         1         0                0   \n",
              "\n",
              "   job_entrepreneur  job_housemaid  job_management  ...  month_may  month_nov  \\\n",
              "0                 0              0               1  ...          1          0   \n",
              "1                 0              0               0  ...          1          0   \n",
              "2                 1              0               0  ...          1          0   \n",
              "3                 0              0               0  ...          1          0   \n",
              "4                 0              0               0  ...          1          0   \n",
              "\n",
              "   month_oct  month_sep  poutcome_other  poutcome_success  poutcome_unknown  \\\n",
              "0          0          0               0                 0                 1   \n",
              "1          0          0               0                 0                 1   \n",
              "2          0          0               0                 0                 1   \n",
              "3          0          0               0                 0                 1   \n",
              "4          0          0               0                 0                 1   \n",
              "\n",
              "   housingNew  loanNew  yNew  \n",
              "0           1        0     0  \n",
              "1           1        0     0  \n",
              "2           1        1     0  \n",
              "3           1        0     0  \n",
              "4           0        0     0  \n",
              "\n",
              "[5 rows x 41 columns]"
            ],
            "text/html": [
              "\n",
              "  <div id=\"df-ea90e752-66f0-4a26-85eb-17cb7f6d35ee\">\n",
              "    <div class=\"colab-df-container\">\n",
              "      <div>\n",
              "<style scoped>\n",
              "    .dataframe tbody tr th:only-of-type {\n",
              "        vertical-align: middle;\n",
              "    }\n",
              "\n",
              "    .dataframe tbody tr th {\n",
              "        vertical-align: top;\n",
              "    }\n",
              "\n",
              "    .dataframe thead th {\n",
              "        text-align: right;\n",
              "    }\n",
              "</style>\n",
              "<table border=\"1\" class=\"dataframe\">\n",
              "  <thead>\n",
              "    <tr style=\"text-align: right;\">\n",
              "      <th></th>\n",
              "      <th>age</th>\n",
              "      <th>balance</th>\n",
              "      <th>day</th>\n",
              "      <th>duration</th>\n",
              "      <th>campaign</th>\n",
              "      <th>previous</th>\n",
              "      <th>job_blue-collar</th>\n",
              "      <th>job_entrepreneur</th>\n",
              "      <th>job_housemaid</th>\n",
              "      <th>job_management</th>\n",
              "      <th>...</th>\n",
              "      <th>month_may</th>\n",
              "      <th>month_nov</th>\n",
              "      <th>month_oct</th>\n",
              "      <th>month_sep</th>\n",
              "      <th>poutcome_other</th>\n",
              "      <th>poutcome_success</th>\n",
              "      <th>poutcome_unknown</th>\n",
              "      <th>housingNew</th>\n",
              "      <th>loanNew</th>\n",
              "      <th>yNew</th>\n",
              "    </tr>\n",
              "  </thead>\n",
              "  <tbody>\n",
              "    <tr>\n",
              "      <th>0</th>\n",
              "      <td>58</td>\n",
              "      <td>2143</td>\n",
              "      <td>5</td>\n",
              "      <td>261</td>\n",
              "      <td>1</td>\n",
              "      <td>0</td>\n",
              "      <td>0</td>\n",
              "      <td>0</td>\n",
              "      <td>0</td>\n",
              "      <td>1</td>\n",
              "      <td>...</td>\n",
              "      <td>1</td>\n",
              "      <td>0</td>\n",
              "      <td>0</td>\n",
              "      <td>0</td>\n",
              "      <td>0</td>\n",
              "      <td>0</td>\n",
              "      <td>1</td>\n",
              "      <td>1</td>\n",
              "      <td>0</td>\n",
              "      <td>0</td>\n",
              "    </tr>\n",
              "    <tr>\n",
              "      <th>1</th>\n",
              "      <td>44</td>\n",
              "      <td>29</td>\n",
              "      <td>5</td>\n",
              "      <td>151</td>\n",
              "      <td>1</td>\n",
              "      <td>0</td>\n",
              "      <td>0</td>\n",
              "      <td>0</td>\n",
              "      <td>0</td>\n",
              "      <td>0</td>\n",
              "      <td>...</td>\n",
              "      <td>1</td>\n",
              "      <td>0</td>\n",
              "      <td>0</td>\n",
              "      <td>0</td>\n",
              "      <td>0</td>\n",
              "      <td>0</td>\n",
              "      <td>1</td>\n",
              "      <td>1</td>\n",
              "      <td>0</td>\n",
              "      <td>0</td>\n",
              "    </tr>\n",
              "    <tr>\n",
              "      <th>2</th>\n",
              "      <td>33</td>\n",
              "      <td>2</td>\n",
              "      <td>5</td>\n",
              "      <td>76</td>\n",
              "      <td>1</td>\n",
              "      <td>0</td>\n",
              "      <td>0</td>\n",
              "      <td>1</td>\n",
              "      <td>0</td>\n",
              "      <td>0</td>\n",
              "      <td>...</td>\n",
              "      <td>1</td>\n",
              "      <td>0</td>\n",
              "      <td>0</td>\n",
              "      <td>0</td>\n",
              "      <td>0</td>\n",
              "      <td>0</td>\n",
              "      <td>1</td>\n",
              "      <td>1</td>\n",
              "      <td>1</td>\n",
              "      <td>0</td>\n",
              "    </tr>\n",
              "    <tr>\n",
              "      <th>3</th>\n",
              "      <td>47</td>\n",
              "      <td>1506</td>\n",
              "      <td>5</td>\n",
              "      <td>92</td>\n",
              "      <td>1</td>\n",
              "      <td>0</td>\n",
              "      <td>1</td>\n",
              "      <td>0</td>\n",
              "      <td>0</td>\n",
              "      <td>0</td>\n",
              "      <td>...</td>\n",
              "      <td>1</td>\n",
              "      <td>0</td>\n",
              "      <td>0</td>\n",
              "      <td>0</td>\n",
              "      <td>0</td>\n",
              "      <td>0</td>\n",
              "      <td>1</td>\n",
              "      <td>1</td>\n",
              "      <td>0</td>\n",
              "      <td>0</td>\n",
              "    </tr>\n",
              "    <tr>\n",
              "      <th>4</th>\n",
              "      <td>33</td>\n",
              "      <td>1</td>\n",
              "      <td>5</td>\n",
              "      <td>198</td>\n",
              "      <td>1</td>\n",
              "      <td>0</td>\n",
              "      <td>0</td>\n",
              "      <td>0</td>\n",
              "      <td>0</td>\n",
              "      <td>0</td>\n",
              "      <td>...</td>\n",
              "      <td>1</td>\n",
              "      <td>0</td>\n",
              "      <td>0</td>\n",
              "      <td>0</td>\n",
              "      <td>0</td>\n",
              "      <td>0</td>\n",
              "      <td>1</td>\n",
              "      <td>0</td>\n",
              "      <td>0</td>\n",
              "      <td>0</td>\n",
              "    </tr>\n",
              "  </tbody>\n",
              "</table>\n",
              "<p>5 rows × 41 columns</p>\n",
              "</div>\n",
              "      <button class=\"colab-df-convert\" onclick=\"convertToInteractive('df-ea90e752-66f0-4a26-85eb-17cb7f6d35ee')\"\n",
              "              title=\"Convert this dataframe to an interactive table.\"\n",
              "              style=\"display:none;\">\n",
              "        \n",
              "  <svg xmlns=\"http://www.w3.org/2000/svg\" height=\"24px\"viewBox=\"0 0 24 24\"\n",
              "       width=\"24px\">\n",
              "    <path d=\"M0 0h24v24H0V0z\" fill=\"none\"/>\n",
              "    <path d=\"M18.56 5.44l.94 2.06.94-2.06 2.06-.94-2.06-.94-.94-2.06-.94 2.06-2.06.94zm-11 1L8.5 8.5l.94-2.06 2.06-.94-2.06-.94L8.5 2.5l-.94 2.06-2.06.94zm10 10l.94 2.06.94-2.06 2.06-.94-2.06-.94-.94-2.06-.94 2.06-2.06.94z\"/><path d=\"M17.41 7.96l-1.37-1.37c-.4-.4-.92-.59-1.43-.59-.52 0-1.04.2-1.43.59L10.3 9.45l-7.72 7.72c-.78.78-.78 2.05 0 2.83L4 21.41c.39.39.9.59 1.41.59.51 0 1.02-.2 1.41-.59l7.78-7.78 2.81-2.81c.8-.78.8-2.07 0-2.86zM5.41 20L4 18.59l7.72-7.72 1.47 1.35L5.41 20z\"/>\n",
              "  </svg>\n",
              "      </button>\n",
              "      \n",
              "  <style>\n",
              "    .colab-df-container {\n",
              "      display:flex;\n",
              "      flex-wrap:wrap;\n",
              "      gap: 12px;\n",
              "    }\n",
              "\n",
              "    .colab-df-convert {\n",
              "      background-color: #E8F0FE;\n",
              "      border: none;\n",
              "      border-radius: 50%;\n",
              "      cursor: pointer;\n",
              "      display: none;\n",
              "      fill: #1967D2;\n",
              "      height: 32px;\n",
              "      padding: 0 0 0 0;\n",
              "      width: 32px;\n",
              "    }\n",
              "\n",
              "    .colab-df-convert:hover {\n",
              "      background-color: #E2EBFA;\n",
              "      box-shadow: 0px 1px 2px rgba(60, 64, 67, 0.3), 0px 1px 3px 1px rgba(60, 64, 67, 0.15);\n",
              "      fill: #174EA6;\n",
              "    }\n",
              "\n",
              "    [theme=dark] .colab-df-convert {\n",
              "      background-color: #3B4455;\n",
              "      fill: #D2E3FC;\n",
              "    }\n",
              "\n",
              "    [theme=dark] .colab-df-convert:hover {\n",
              "      background-color: #434B5C;\n",
              "      box-shadow: 0px 1px 3px 1px rgba(0, 0, 0, 0.15);\n",
              "      filter: drop-shadow(0px 1px 2px rgba(0, 0, 0, 0.3));\n",
              "      fill: #FFFFFF;\n",
              "    }\n",
              "  </style>\n",
              "\n",
              "      <script>\n",
              "        const buttonEl =\n",
              "          document.querySelector('#df-ea90e752-66f0-4a26-85eb-17cb7f6d35ee button.colab-df-convert');\n",
              "        buttonEl.style.display =\n",
              "          google.colab.kernel.accessAllowed ? 'block' : 'none';\n",
              "\n",
              "        async function convertToInteractive(key) {\n",
              "          const element = document.querySelector('#df-ea90e752-66f0-4a26-85eb-17cb7f6d35ee');\n",
              "          const dataTable =\n",
              "            await google.colab.kernel.invokeFunction('convertToInteractive',\n",
              "                                                     [key], {});\n",
              "          if (!dataTable) return;\n",
              "\n",
              "          const docLinkHtml = 'Like what you see? Visit the ' +\n",
              "            '<a target=\"_blank\" href=https://colab.research.google.com/notebooks/data_table.ipynb>data table notebook</a>'\n",
              "            + ' to learn more about interactive tables.';\n",
              "          element.innerHTML = '';\n",
              "          dataTable['output_type'] = 'display_data';\n",
              "          await google.colab.output.renderOutput(dataTable, element);\n",
              "          const docLink = document.createElement('div');\n",
              "          docLink.innerHTML = docLinkHtml;\n",
              "          element.appendChild(docLink);\n",
              "        }\n",
              "      </script>\n",
              "    </div>\n",
              "  </div>\n",
              "  "
            ]
          },
          "metadata": {},
          "execution_count": 21
        }
      ]
    },
    {
      "cell_type": "markdown",
      "source": [
        "## Split Dataset"
      ],
      "metadata": {
        "id": "irDtdRprcoo-"
      }
    },
    {
      "cell_type": "code",
      "source": [
        "X = data2.drop(['yNew'],axis=1)\n",
        "Y = data2['yNew']\n",
        "trainX, testX, trainY, testY = train_test_split(X,Y,test_size=0.2, random_state=0)\n",
        "print(\"Training data =\",len(trainX), \"\\n For Testing data =\",len(testX))"
      ],
      "metadata": {
        "colab": {
          "base_uri": "https://localhost:8080/"
        },
        "id": "KJtZmeR8ctvH",
        "outputId": "f49eb064-47ff-4403-9fa1-1e6446d28082"
      },
      "execution_count": 22,
      "outputs": [
        {
          "output_type": "stream",
          "name": "stdout",
          "text": [
            " For Training data = 36168 \n",
            " For Testing data = 9043\n"
          ]
        }
      ]
    },
    {
      "cell_type": "code",
      "source": [
        "X_train,y_train ,X_test,y_test=trainX,trainY,testX,testY"
      ],
      "metadata": {
        "id": "WqVUuES508AA"
      },
      "execution_count": 30,
      "outputs": []
    },
    {
      "cell_type": "markdown",
      "source": [
        "# Train Model"
      ],
      "metadata": {
        "id": "A-ueIFZXjTGc"
      }
    },
    {
      "cell_type": "markdown",
      "source": [
        "## SVM with default Hyper Parameters"
      ],
      "metadata": {
        "id": "RNNOYaNt0nb-"
      }
    },
    {
      "cell_type": "code",
      "source": [
        "from sklearn.svm import SVC\n",
        "from sklearn.metrics import accuracy_score\n",
        "svc=SVC() \n",
        "svc.fit(X_train,y_train)\n",
        "predictY=svc.predict(X_test)\n",
        "\n",
        "print(accuracy_score(testY,predictY))\n",
        "print(confusion_matrix(testY,predictY))\n",
        "print(classification_report(testY,predictY,digits=5))"
      ],
      "metadata": {
        "colab": {
          "base_uri": "https://localhost:8080/"
        },
        "id": "Ti9osnap0yqK",
        "outputId": "c7dbab1b-8a42-4f62-8d98-96d6d7cbc77a"
      },
      "execution_count": 32,
      "outputs": [
        {
          "output_type": "stream",
          "name": "stdout",
          "text": [
            "0.8830034280659074\n",
            "[[7974    6]\n",
            " [1052   11]]\n",
            "              precision    recall  f1-score   support\n",
            "\n",
            "           0    0.88345   0.99925   0.93779      7980\n",
            "           1    0.64706   0.01035   0.02037      1063\n",
            "\n",
            "    accuracy                        0.88300      9043\n",
            "   macro avg    0.76525   0.50480   0.47908      9043\n",
            "weighted avg    0.85566   0.88300   0.82994      9043\n",
            "\n"
          ]
        }
      ]
    },
    {
      "cell_type": "markdown",
      "source": [
        "## LinearSVC and C=.55"
      ],
      "metadata": {
        "id": "WN0LmrIQ0DQa"
      }
    },
    {
      "cell_type": "code",
      "source": [
        "# Here, We have use LinearSVC for building our model\n",
        "modelSVC= LinearSVC(penalty='l2', loss='squared_hinge', dual=True, tol=0.0001,C=0.55, multi_class='ovr', fit_intercept=True, intercept_scaling=1, class_weight=None, verbose=0, random_state=42, max_iter=1000)\n",
        "modelSVC.fit(trainX,trainY)\n",
        "\n",
        "predictY=modelSVC.predict(testX)\n",
        "\n",
        "print(accuracy_score(testY,predictY))\n",
        "print(confusion_matrix(testY,predictY))\n",
        "print(classification_report(testY,predictY,digits=5))"
      ],
      "metadata": {
        "id": "ku4uSaXOjSZE",
        "colab": {
          "base_uri": "https://localhost:8080/"
        },
        "outputId": "c28a19db-697e-4296-fe24-6843db70c2ca"
      },
      "execution_count": 33,
      "outputs": [
        {
          "output_type": "stream",
          "name": "stdout",
          "text": [
            "0.892734711931881\n",
            "[[7871  109]\n",
            " [ 861  202]]\n",
            "              precision    recall  f1-score   support\n",
            "\n",
            "           0    0.90140   0.98634   0.94196      7980\n",
            "           1    0.64952   0.19003   0.29403      1063\n",
            "\n",
            "    accuracy                        0.89273      9043\n",
            "   macro avg    0.77546   0.58818   0.61799      9043\n",
            "weighted avg    0.87179   0.89273   0.86579      9043\n",
            "\n"
          ]
        },
        {
          "output_type": "stream",
          "name": "stderr",
          "text": [
            "/usr/local/lib/python3.9/dist-packages/sklearn/svm/_base.py:1244: ConvergenceWarning: Liblinear failed to converge, increase the number of iterations.\n",
            "  warnings.warn(\n"
          ]
        }
      ]
    },
    {
      "cell_type": "markdown",
      "source": [
        "## SVM with rbf kernel and C=100.0"
      ],
      "metadata": {
        "id": "mAkoc2uN0L3r"
      }
    },
    {
      "cell_type": "code",
      "source": [
        "svc=SVC(C=100.0) \n",
        "svc.fit(X_train,y_train)\n",
        "predictY=svc.predict(X_test)\n",
        "\n",
        "print(accuracy_score(testY,predictY))\n",
        "print(confusion_matrix(testY,predictY))\n",
        "print(classification_report(testY,predictY,digits=5))"
      ],
      "metadata": {
        "colab": {
          "base_uri": "https://localhost:8080/"
        },
        "id": "hc5ZXtIB0JpH",
        "outputId": "563d2922-07ad-432d-fb9b-e13b2773aa44"
      },
      "execution_count": 34,
      "outputs": [
        {
          "output_type": "stream",
          "name": "stdout",
          "text": [
            "0.8824505142098861\n",
            "[[7936   44]\n",
            " [1019   44]]\n",
            "              precision    recall  f1-score   support\n",
            "\n",
            "           0    0.88621   0.99449   0.93723      7980\n",
            "           1    0.50000   0.04139   0.07646      1063\n",
            "\n",
            "    accuracy                        0.88245      9043\n",
            "   macro avg    0.69310   0.51794   0.50684      9043\n",
            "weighted avg    0.84081   0.88245   0.83605      9043\n",
            "\n"
          ]
        }
      ]
    },
    {
      "cell_type": "markdown",
      "source": [
        "## SVM with polynomial kernel and C=1.0"
      ],
      "metadata": {
        "id": "t1NzCaft2kNk"
      }
    },
    {
      "cell_type": "code",
      "source": [
        "poly_svc=SVC(kernel='poly', C=1.0) \n",
        "poly_svc.fit(X_train,y_train)\n",
        "\n",
        "predictY=poly_svc.predict(X_test)\n",
        "\n",
        "print(accuracy_score(testY,predictY))\n",
        "print(confusion_matrix(testY,predictY))\n",
        "print(classification_report(testY,predictY,digits=5))\n"
      ],
      "metadata": {
        "id": "uXOF4Jyn2Zep"
      },
      "execution_count": null,
      "outputs": []
    },
    {
      "cell_type": "markdown",
      "source": [
        "## SVM with polynomial kernel and C=1.0"
      ],
      "metadata": {
        "id": "6oE0iGcE3Cea"
      }
    },
    {
      "cell_type": "code",
      "source": [
        "poly_svc=SVC(kernel='poly', C=100.0) \n",
        "poly_svc.fit(X_train,y_train)\n",
        "\n",
        "predictY=poly_svc.predict(X_test)\n",
        "\n",
        "print(accuracy_score(testY,predictY))\n",
        "print(confusion_matrix(testY,predictY))\n",
        "print(classification_report(testY,predictY,digits=5))\n"
      ],
      "metadata": {
        "id": "5xAMrUuU3F5Y"
      },
      "execution_count": null,
      "outputs": []
    }
  ],
  "metadata": {
    "colab": {
      "provenance": []
    },
    "kernelspec": {
      "display_name": "Python 3",
      "name": "python3"
    },
    "language_info": {
      "name": "python"
    },
    "accelerator": "GPU",
    "gpuClass": "standard"
  },
  "nbformat": 4,
  "nbformat_minor": 0
}